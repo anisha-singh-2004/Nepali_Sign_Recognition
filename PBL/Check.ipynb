{
 "cells": [
  {
   "cell_type": "code",
   "execution_count": 1,
   "id": "b3fe4aed",
   "metadata": {},
   "outputs": [
    {
     "name": "stderr",
     "output_type": "stream",
     "text": [
      "WARNING:absl:Compiled the loaded model, but the compiled metrics have yet to be built. `model.compile_metrics` will be empty until you train or evaluate the model.\n"
     ]
    },
    {
     "name": "stdout",
     "output_type": "stream",
     "text": [
      "\u001b[1m1/1\u001b[0m \u001b[32m━━━━━━━━━━━━━━━━━━━━\u001b[0m\u001b[37m\u001b[0m \u001b[1m1s\u001b[0m 561ms/step\n",
      "Predicted probabilities: [[0. 0. 0. 0. 0. 0. 0. 0. 1. 0. 0. 0. 0. 0. 0. 0. 0. 0. 0. 0. 0. 0. 0. 0.]]\n"
     ]
    }
   ],
   "source": [
    "import cv2\n",
    "import numpy as np\n",
    "from tensorflow.keras.models import load_model\n",
    "\n",
    "# Load the trained model\n",
    "model = load_model(\"TrainedModel/GestureRecogModel.h5\")\n",
    "\n",
    "# Function to preprocess input image\n",
    "def preprocess_input_image(image_path):\n",
    "    # Load image\n",
    "    image = cv2.imread(image_path)\n",
    "    # Convert to grayscale\n",
    "    gray_image = cv2.cvtColor(image, cv2.COLOR_BGR2GRAY)\n",
    "    # Resize image\n",
    "    resized_image = cv2.resize(gray_image, (100, 100))\n",
    "    # Normalize pixel values\n",
    "    normalized_image = resized_image / 255.0\n",
    "    # Reshape image to match model input shape\n",
    "    input_image = normalized_image.reshape(1, 100, 100, 1)\n",
    "    return input_image\n",
    "\n",
    "# Function to get model predictions for input image\n",
    "def predict_gesture(image_path):\n",
    "    # Preprocess input image\n",
    "    input_image = preprocess_input_image(image_path)\n",
    "    # Get model predictions\n",
    "    predictions = model.predict(input_image)\n",
    "    return predictions\n",
    "\n",
    "# Example usage\n",
    "image_path = r'C:\\Users\\anish\\Desktop\\hand\\frame_0000_hand_0KHA.jpg'\n",
    "predictions = predict_gesture(image_path)\n",
    "print(\"Predicted probabilities:\", predictions)\n"
   ]
  },
  {
   "cell_type": "code",
   "execution_count": null,
   "id": "d5978723",
   "metadata": {},
   "outputs": [],
   "source": []
  }
 ],
 "metadata": {
  "kernelspec": {
   "display_name": "Python 3 (ipykernel)",
   "language": "python",
   "name": "python3"
  },
  "language_info": {
   "codemirror_mode": {
    "name": "ipython",
    "version": 3
   },
   "file_extension": ".py",
   "mimetype": "text/x-python",
   "name": "python",
   "nbconvert_exporter": "python",
   "pygments_lexer": "ipython3",
   "version": "3.11.5"
  }
 },
 "nbformat": 4,
 "nbformat_minor": 5
}
