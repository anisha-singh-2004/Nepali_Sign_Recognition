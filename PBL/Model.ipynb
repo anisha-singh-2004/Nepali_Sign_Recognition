{
 "cells": [
  {
   "cell_type": "code",
   "execution_count": 1,
   "id": "b16ea3ba",
   "metadata": {
    "scrolled": false
   },
   "outputs": [
    {
     "name": "stderr",
     "output_type": "stream",
     "text": [
      "\n",
      "A module that was compiled using NumPy 1.x cannot be run in\n",
      "NumPy 2.1.0 as it may crash. To support both 1.x and 2.x\n",
      "versions of NumPy, modules must be compiled with NumPy 2.0.\n",
      "Some module may need to rebuild instead e.g. with 'pybind11>=2.12'.\n",
      "\n",
      "If you are a user of the module, the easiest solution will be to\n",
      "downgrade to 'numpy<2' or try to upgrade the affected module.\n",
      "We expect that some modules will need time to support NumPy 2.\n",
      "\n",
      "Traceback (most recent call last):  File \"<frozen runpy>\", line 198, in _run_module_as_main\n",
      "  File \"<frozen runpy>\", line 88, in _run_code\n",
      "  File \"C:\\Users\\anish\\anaconda3\\Lib\\site-packages\\ipykernel_launcher.py\", line 17, in <module>\n",
      "    app.launch_new_instance()\n",
      "  File \"C:\\Users\\anish\\anaconda3\\Lib\\site-packages\\traitlets\\config\\application.py\", line 992, in launch_instance\n",
      "    app.start()\n",
      "  File \"C:\\Users\\anish\\anaconda3\\Lib\\site-packages\\ipykernel\\kernelapp.py\", line 736, in start\n",
      "    self.io_loop.start()\n",
      "  File \"C:\\Users\\anish\\anaconda3\\Lib\\site-packages\\tornado\\platform\\asyncio.py\", line 195, in start\n",
      "    self.asyncio_loop.run_forever()\n",
      "  File \"C:\\Users\\anish\\anaconda3\\Lib\\asyncio\\base_events.py\", line 607, in run_forever\n",
      "    self._run_once()\n",
      "  File \"C:\\Users\\anish\\anaconda3\\Lib\\asyncio\\base_events.py\", line 1922, in _run_once\n",
      "    handle._run()\n",
      "  File \"C:\\Users\\anish\\anaconda3\\Lib\\asyncio\\events.py\", line 80, in _run\n",
      "    self._context.run(self._callback, *self._args)\n",
      "  File \"C:\\Users\\anish\\anaconda3\\Lib\\site-packages\\ipykernel\\kernelbase.py\", line 516, in dispatch_queue\n",
      "    await self.process_one()\n",
      "  File \"C:\\Users\\anish\\anaconda3\\Lib\\site-packages\\ipykernel\\kernelbase.py\", line 505, in process_one\n",
      "    await dispatch(*args)\n",
      "  File \"C:\\Users\\anish\\anaconda3\\Lib\\site-packages\\ipykernel\\kernelbase.py\", line 412, in dispatch_shell\n",
      "    await result\n",
      "  File \"C:\\Users\\anish\\anaconda3\\Lib\\site-packages\\ipykernel\\kernelbase.py\", line 740, in execute_request\n",
      "    reply_content = await reply_content\n",
      "  File \"C:\\Users\\anish\\anaconda3\\Lib\\site-packages\\ipykernel\\ipkernel.py\", line 422, in do_execute\n",
      "    res = shell.run_cell(\n",
      "  File \"C:\\Users\\anish\\anaconda3\\Lib\\site-packages\\ipykernel\\zmqshell.py\", line 546, in run_cell\n",
      "    return super().run_cell(*args, **kwargs)\n",
      "  File \"C:\\Users\\anish\\anaconda3\\Lib\\site-packages\\IPython\\core\\interactiveshell.py\", line 3024, in run_cell\n",
      "    result = self._run_cell(\n",
      "  File \"C:\\Users\\anish\\anaconda3\\Lib\\site-packages\\IPython\\core\\interactiveshell.py\", line 3079, in _run_cell\n",
      "    result = runner(coro)\n",
      "  File \"C:\\Users\\anish\\anaconda3\\Lib\\site-packages\\IPython\\core\\async_helpers.py\", line 129, in _pseudo_sync_runner\n",
      "    coro.send(None)\n",
      "  File \"C:\\Users\\anish\\anaconda3\\Lib\\site-packages\\IPython\\core\\interactiveshell.py\", line 3284, in run_cell_async\n",
      "    has_raised = await self.run_ast_nodes(code_ast.body, cell_name,\n",
      "  File \"C:\\Users\\anish\\anaconda3\\Lib\\site-packages\\IPython\\core\\interactiveshell.py\", line 3466, in run_ast_nodes\n",
      "    if await self.run_code(code, result, async_=asy):\n",
      "  File \"C:\\Users\\anish\\anaconda3\\Lib\\site-packages\\IPython\\core\\interactiveshell.py\", line 3526, in run_code\n",
      "    exec(code_obj, self.user_global_ns, self.user_ns)\n",
      "  File \"C:\\Users\\anish\\AppData\\Local\\Temp\\ipykernel_3360\\4275363041.py\", line 3, in <module>\n",
      "    import cv2\n",
      "  File \"C:\\Users\\anish\\anaconda3\\Lib\\site-packages\\cv2\\__init__.py\", line 181, in <module>\n",
      "    bootstrap()\n",
      "  File \"C:\\Users\\anish\\anaconda3\\Lib\\site-packages\\cv2\\__init__.py\", line 153, in bootstrap\n",
      "    native_module = importlib.import_module(\"cv2\")\n",
      "  File \"C:\\Users\\anish\\anaconda3\\Lib\\importlib\\__init__.py\", line 126, in import_module\n",
      "    return _bootstrap._gcd_import(name[level:], package, level)\n"
     ]
    },
    {
     "ename": "AttributeError",
     "evalue": "_ARRAY_API not found",
     "output_type": "error",
     "traceback": [
      "\u001b[1;31m---------------------------------------------------------------------------\u001b[0m",
      "\u001b[1;31mAttributeError\u001b[0m                            Traceback (most recent call last)",
      "\u001b[1;31mAttributeError\u001b[0m: _ARRAY_API not found"
     ]
    },
    {
     "ename": "ImportError",
     "evalue": "numpy.core.multiarray failed to import",
     "output_type": "error",
     "traceback": [
      "\u001b[1;31m---------------------------------------------------------------------------\u001b[0m",
      "\u001b[1;31mImportError\u001b[0m                               Traceback (most recent call last)",
      "Cell \u001b[1;32mIn[1], line 3\u001b[0m\n\u001b[0;32m      1\u001b[0m \u001b[38;5;28;01mimport\u001b[39;00m \u001b[38;5;21;01mos\u001b[39;00m\n\u001b[0;32m      2\u001b[0m \u001b[38;5;28;01mimport\u001b[39;00m \u001b[38;5;21;01mre\u001b[39;00m\n\u001b[1;32m----> 3\u001b[0m \u001b[38;5;28;01mimport\u001b[39;00m \u001b[38;5;21;01mcv2\u001b[39;00m\n\u001b[0;32m      4\u001b[0m \u001b[38;5;28;01mimport\u001b[39;00m \u001b[38;5;21;01mnumpy\u001b[39;00m \u001b[38;5;28;01mas\u001b[39;00m \u001b[38;5;21;01mnp\u001b[39;00m\n\u001b[0;32m      5\u001b[0m \u001b[38;5;28;01mimport\u001b[39;00m \u001b[38;5;21;01mtensorflow\u001b[39;00m \u001b[38;5;28;01mas\u001b[39;00m \u001b[38;5;21;01mtf\u001b[39;00m\n",
      "File \u001b[1;32m~\\anaconda3\\Lib\\site-packages\\cv2\\__init__.py:181\u001b[0m\n\u001b[0;32m    176\u001b[0m             \u001b[38;5;28;01mif\u001b[39;00m DEBUG: \u001b[38;5;28mprint\u001b[39m(\u001b[38;5;124m\"\u001b[39m\u001b[38;5;124mExtra Python code for\u001b[39m\u001b[38;5;124m\"\u001b[39m, submodule, \u001b[38;5;124m\"\u001b[39m\u001b[38;5;124mis loaded\u001b[39m\u001b[38;5;124m\"\u001b[39m)\n\u001b[0;32m    178\u001b[0m     \u001b[38;5;28;01mif\u001b[39;00m DEBUG: \u001b[38;5;28mprint\u001b[39m(\u001b[38;5;124m'\u001b[39m\u001b[38;5;124mOpenCV loader: DONE\u001b[39m\u001b[38;5;124m'\u001b[39m)\n\u001b[1;32m--> 181\u001b[0m bootstrap()\n",
      "File \u001b[1;32m~\\anaconda3\\Lib\\site-packages\\cv2\\__init__.py:153\u001b[0m, in \u001b[0;36mbootstrap\u001b[1;34m()\u001b[0m\n\u001b[0;32m    149\u001b[0m \u001b[38;5;28;01mif\u001b[39;00m DEBUG: \u001b[38;5;28mprint\u001b[39m(\u001b[38;5;124m\"\u001b[39m\u001b[38;5;124mRelink everything from native cv2 module to cv2 package\u001b[39m\u001b[38;5;124m\"\u001b[39m)\n\u001b[0;32m    151\u001b[0m py_module \u001b[38;5;241m=\u001b[39m sys\u001b[38;5;241m.\u001b[39mmodules\u001b[38;5;241m.\u001b[39mpop(\u001b[38;5;124m\"\u001b[39m\u001b[38;5;124mcv2\u001b[39m\u001b[38;5;124m\"\u001b[39m)\n\u001b[1;32m--> 153\u001b[0m native_module \u001b[38;5;241m=\u001b[39m importlib\u001b[38;5;241m.\u001b[39mimport_module(\u001b[38;5;124m\"\u001b[39m\u001b[38;5;124mcv2\u001b[39m\u001b[38;5;124m\"\u001b[39m)\n\u001b[0;32m    155\u001b[0m sys\u001b[38;5;241m.\u001b[39mmodules[\u001b[38;5;124m\"\u001b[39m\u001b[38;5;124mcv2\u001b[39m\u001b[38;5;124m\"\u001b[39m] \u001b[38;5;241m=\u001b[39m py_module\n\u001b[0;32m    156\u001b[0m \u001b[38;5;28msetattr\u001b[39m(py_module, \u001b[38;5;124m\"\u001b[39m\u001b[38;5;124m_native\u001b[39m\u001b[38;5;124m\"\u001b[39m, native_module)\n",
      "File \u001b[1;32m~\\anaconda3\\Lib\\importlib\\__init__.py:126\u001b[0m, in \u001b[0;36mimport_module\u001b[1;34m(name, package)\u001b[0m\n\u001b[0;32m    124\u001b[0m             \u001b[38;5;28;01mbreak\u001b[39;00m\n\u001b[0;32m    125\u001b[0m         level \u001b[38;5;241m+\u001b[39m\u001b[38;5;241m=\u001b[39m \u001b[38;5;241m1\u001b[39m\n\u001b[1;32m--> 126\u001b[0m \u001b[38;5;28;01mreturn\u001b[39;00m _bootstrap\u001b[38;5;241m.\u001b[39m_gcd_import(name[level:], package, level)\n",
      "\u001b[1;31mImportError\u001b[0m: numpy.core.multiarray failed to import"
     ]
    }
   ],
   "source": [
    "import os\n",
    "import re\n",
    "import cv2\n",
    "import numpy as np\n",
    "import tensorflow as tf\n",
    "from tensorflow.keras.layers import InputLayer,Conv2D, MaxPooling2D, Flatten, Dense, Dropout, BatchNormalization\n",
    "from tensorflow.keras.models import Sequential\n",
    "from sklearn.model_selection import train_test_split\n",
    "from tensorflow.keras.layers import Input\n",
    "from sklearn.metrics import accuracy_score, precision_score, recall_score, f1_score\n",
    "from tensorflow.keras.preprocessing.image import ImageDataGenerator\n",
    "from tensorflow.keras.optimizers import Adam"
   ]
  },
  {
   "cell_type": "code",
   "execution_count": 2,
   "id": "efada60d",
   "metadata": {},
   "outputs": [],
   "source": [
    "learning_rate=0.001\n",
    "tf.config.run_functions_eagerly(True)\n",
    "\n",
    "# Enable eager execution for tf.data functions\n",
    "#tf.data.experimental.enable_debug_mode()\n"
   ]
  },
  {
   "cell_type": "code",
   "execution_count": 3,
   "id": "6c3be603",
   "metadata": {},
   "outputs": [],
   "source": [
    "def load_dataset(dataset_dir):\n",
    "    images = []\n",
    "    labels = []\n",
    "    label_mapping = {}  # Mapping matrix to store label-to-number mapping\n",
    "    label_counter = 0   # Counter to assign numeric values to labels\n",
    "\n",
    "    for filename in os.listdir(dataset_dir):\n",
    "        if filename.endswith('.png') or filename.endswith('.jpg'):\n",
    "            # Load image\n",
    "            image = cv2.imread(os.path.join(dataset_dir, filename))\n",
    "            # Convert to grayscale\n",
    "            gray_image = cv2.cvtColor(image, cv2.COLOR_BGR2GRAY)\n",
    "            # Resize image to a consistent size\n",
    "            resized_image = cv2.resize(gray_image, (100, 100))\n",
    "            # Deblur the image\n",
    "            deblurred_image = cv2.GaussianBlur(resized_image, (5, 5), 0)\n",
    "            # Normalize pixel values to range [0, 1]\n",
    "            normalized_image = deblurred_image / 255.0\n",
    "            # Append image to list\n",
    "            images.append(normalized_image)\n",
    "            # Extract label from filename after the 17th character\n",
    "            label = filename[17:].split('.')[0]  # Remove file extension\n",
    "            # Check if the label already exists in the mapping matrix\n",
    "            if label not in label_mapping:\n",
    "                # Assign a numeric value to the label and update the mapping matrix\n",
    "                label_mapping[label] = label_counter\n",
    "                label_counter += 1\n",
    "            # Append the numeric label to the labels list\n",
    "            labels.append(label_mapping[label])\n",
    "\n",
    "    return images, labels, label_mapping\n"
   ]
  },
  {
   "cell_type": "code",
   "execution_count": 4,
   "id": "1a9d5b2c",
   "metadata": {
    "scrolled": false
   },
   "outputs": [],
   "source": [
    "images, labels, label_mapping = load_dataset(r\"C:\\Users\\anish\\Desktop\\hand\")\n",
    "images = np.array(images).reshape(-1, 100, 100, 1)\n",
    "labels = tf.keras.utils.to_categorical(labels, num_classes=len(label_mapping))\n"
   ]
  },
  {
   "cell_type": "code",
   "execution_count": 5,
   "id": "31c9526f",
   "metadata": {},
   "outputs": [],
   "source": [
    "# Split data into training and validation sets\n",
    "X_train, X_val, y_train, y_val = train_test_split(images, labels, test_size=0.1, random_state=0)"
   ]
  },
  {
   "cell_type": "code",
   "execution_count": 6,
   "id": "71bc4e5e",
   "metadata": {},
   "outputs": [],
   "source": [
    "# Data Augmentation\n",
    "datagen = tf.keras.preprocessing.image.ImageDataGenerator(\n",
    "    rotation_range=20,        # Degree range for random rotations\n",
    "    width_shift_range=0.1,    # Fraction of total width for horizontal shifts\n",
    "    height_shift_range=0.1,   # Fraction of total height for vertical shifts\n",
    "    horizontal_flip=True     # Randomly flip inputs horizontally\n",
    ")"
   ]
  },
  {
   "cell_type": "code",
   "execution_count": 7,
   "id": "a33100fe",
   "metadata": {},
   "outputs": [],
   "source": [
    "datagen.fit(X_train)"
   ]
  },
  {
   "cell_type": "code",
   "execution_count": 8,
   "id": "0f516f28",
   "metadata": {},
   "outputs": [],
   "source": [
    "model = Sequential([\n",
    "    InputLayer(shape=(100, 100, 1)),  # Input layer\n",
    "    Conv2D(32, (3, 3), activation='relu'),\n",
    "    BatchNormalization(),\n",
    "    MaxPooling2D((2, 2)),\n",
    "    Conv2D(64, (3, 3), activation='relu'),\n",
    "    BatchNormalization(),\n",
    "    MaxPooling2D((2, 2)),\n",
    "    Conv2D(128, (3, 3), activation='relu'),\n",
    "    BatchNormalization(),\n",
    "    Flatten(),\n",
    "    Dense(1000, activation='relu'),\n",
    "    Dropout(0.5),\n",
    "    Dense(len(label_mapping), activation='softmax')\n",
    "])"
   ]
  },
  {
   "cell_type": "code",
   "execution_count": 9,
   "id": "183f39d3",
   "metadata": {},
   "outputs": [],
   "source": [
    "optimizer = Adam(learning_rate=learning_rate)\n",
    "model.compile(optimizer=optimizer, loss='categorical_crossentropy', metrics=['accuracy'])"
   ]
  },
  {
   "cell_type": "code",
   "execution_count": 10,
   "id": "259b1908",
   "metadata": {
    "scrolled": false
   },
   "outputs": [
    {
     "name": "stdout",
     "output_type": "stream",
     "text": [
      "Epoch 1/50\n"
     ]
    },
    {
     "name": "stderr",
     "output_type": "stream",
     "text": [
      "C:\\Users\\anish\\anaconda3\\Lib\\site-packages\\tensorflow\\python\\data\\ops\\structured_function.py:258: UserWarning: Even though the `tf.config.experimental_run_functions_eagerly` option is set, this option does not apply to tf.data functions. To force eager execution of tf.data functions, please use `tf.data.experimental.enable_debug_mode()`.\n",
      "  warnings.warn(\n",
      "C:\\Users\\anish\\anaconda3\\Lib\\site-packages\\keras\\src\\trainers\\data_adapters\\py_dataset_adapter.py:120: UserWarning: Your `PyDataset` class should call `super().__init__(**kwargs)` in its constructor. `**kwargs` can include `workers`, `use_multiprocessing`, `max_queue_size`. Do not pass these arguments to `fit()`, as they will be ignored.\n",
      "  self._warn_if_super_not_called()\n"
     ]
    },
    {
     "name": "stdout",
     "output_type": "stream",
     "text": [
      "\u001b[1m61/61\u001b[0m \u001b[32m━━━━━━━━━━━━━━━━━━━━\u001b[0m\u001b[37m\u001b[0m \u001b[1m60s\u001b[0m 920ms/step - accuracy: 0.3794 - loss: 11.0399 - val_accuracy: 0.0512 - val_loss: 21.4351\n",
      "Epoch 2/50\n",
      "\u001b[1m61/61\u001b[0m \u001b[32m━━━━━━━━━━━━━━━━━━━━\u001b[0m\u001b[37m\u001b[0m \u001b[1m53s\u001b[0m 864ms/step - accuracy: 0.7222 - loss: 4.6898 - val_accuracy: 0.0372 - val_loss: 102.7755\n",
      "Epoch 3/50\n",
      "\u001b[1m61/61\u001b[0m \u001b[32m━━━━━━━━━━━━━━━━━━━━\u001b[0m\u001b[37m\u001b[0m \u001b[1m52s\u001b[0m 850ms/step - accuracy: 0.8007 - loss: 3.1456 - val_accuracy: 0.0372 - val_loss: 179.2235\n",
      "Epoch 4/50\n",
      "\u001b[1m61/61\u001b[0m \u001b[32m━━━━━━━━━━━━━━━━━━━━\u001b[0m\u001b[37m\u001b[0m \u001b[1m52s\u001b[0m 842ms/step - accuracy: 0.8605 - loss: 2.2487 - val_accuracy: 0.0791 - val_loss: 163.8494\n",
      "Epoch 5/50\n",
      "\u001b[1m61/61\u001b[0m \u001b[32m━━━━━━━━━━━━━━━━━━━━\u001b[0m\u001b[37m\u001b[0m \u001b[1m51s\u001b[0m 827ms/step - accuracy: 0.8755 - loss: 1.5711 - val_accuracy: 0.0791 - val_loss: 194.6902\n",
      "Epoch 6/50\n",
      "\u001b[1m61/61\u001b[0m \u001b[32m━━━━━━━━━━━━━━━━━━━━\u001b[0m\u001b[37m\u001b[0m \u001b[1m50s\u001b[0m 822ms/step - accuracy: 0.8768 - loss: 1.1984 - val_accuracy: 0.0837 - val_loss: 201.6116\n",
      "Epoch 7/50\n",
      "\u001b[1m61/61\u001b[0m \u001b[32m━━━━━━━━━━━━━━━━━━━━\u001b[0m\u001b[37m\u001b[0m \u001b[1m53s\u001b[0m 868ms/step - accuracy: 0.8930 - loss: 1.3229 - val_accuracy: 0.0884 - val_loss: 151.1543\n",
      "Epoch 8/50\n",
      "\u001b[1m61/61\u001b[0m \u001b[32m━━━━━━━━━━━━━━━━━━━━\u001b[0m\u001b[37m\u001b[0m \u001b[1m50s\u001b[0m 819ms/step - accuracy: 0.8919 - loss: 1.2852 - val_accuracy: 0.1628 - val_loss: 75.0639\n",
      "Epoch 9/50\n",
      "\u001b[1m61/61\u001b[0m \u001b[32m━━━━━━━━━━━━━━━━━━━━\u001b[0m\u001b[37m\u001b[0m \u001b[1m50s\u001b[0m 816ms/step - accuracy: 0.9022 - loss: 1.2561 - val_accuracy: 0.2512 - val_loss: 43.9165\n",
      "Epoch 10/50\n",
      "\u001b[1m61/61\u001b[0m \u001b[32m━━━━━━━━━━━━━━━━━━━━\u001b[0m\u001b[37m\u001b[0m \u001b[1m50s\u001b[0m 814ms/step - accuracy: 0.9121 - loss: 1.0060 - val_accuracy: 0.1860 - val_loss: 102.5148\n",
      "Epoch 11/50\n",
      "\u001b[1m61/61\u001b[0m \u001b[32m━━━━━━━━━━━━━━━━━━━━\u001b[0m\u001b[37m\u001b[0m \u001b[1m50s\u001b[0m 811ms/step - accuracy: 0.9265 - loss: 0.7096 - val_accuracy: 0.8651 - val_loss: 1.4377\n",
      "Epoch 12/50\n",
      "\u001b[1m61/61\u001b[0m \u001b[32m━━━━━━━━━━━━━━━━━━━━\u001b[0m\u001b[37m\u001b[0m \u001b[1m50s\u001b[0m 810ms/step - accuracy: 0.9401 - loss: 0.7548 - val_accuracy: 0.9349 - val_loss: 0.8347\n",
      "Epoch 13/50\n",
      "\u001b[1m61/61\u001b[0m \u001b[32m━━━━━━━━━━━━━━━━━━━━\u001b[0m\u001b[37m\u001b[0m \u001b[1m50s\u001b[0m 817ms/step - accuracy: 0.9397 - loss: 0.5194 - val_accuracy: 0.9814 - val_loss: 1.1255\n",
      "Epoch 14/50\n",
      "\u001b[1m61/61\u001b[0m \u001b[32m━━━━━━━━━━━━━━━━━━━━\u001b[0m\u001b[37m\u001b[0m \u001b[1m51s\u001b[0m 829ms/step - accuracy: 0.9217 - loss: 0.7016 - val_accuracy: 0.8140 - val_loss: 6.0076\n",
      "Epoch 15/50\n",
      "\u001b[1m61/61\u001b[0m \u001b[32m━━━━━━━━━━━━━━━━━━━━\u001b[0m\u001b[37m\u001b[0m \u001b[1m50s\u001b[0m 814ms/step - accuracy: 0.9305 - loss: 0.6733 - val_accuracy: 0.7628 - val_loss: 2.8008\n",
      "Epoch 16/50\n",
      "\u001b[1m61/61\u001b[0m \u001b[32m━━━━━━━━━━━━━━━━━━━━\u001b[0m\u001b[37m\u001b[0m \u001b[1m50s\u001b[0m 813ms/step - accuracy: 0.9357 - loss: 0.6502 - val_accuracy: 0.9070 - val_loss: 0.6440\n",
      "Epoch 17/50\n",
      "\u001b[1m61/61\u001b[0m \u001b[32m━━━━━━━━━━━━━━━━━━━━\u001b[0m\u001b[37m\u001b[0m \u001b[1m50s\u001b[0m 808ms/step - accuracy: 0.9281 - loss: 0.7174 - val_accuracy: 0.8930 - val_loss: 1.9045\n",
      "Epoch 18/50\n",
      "\u001b[1m61/61\u001b[0m \u001b[32m━━━━━━━━━━━━━━━━━━━━\u001b[0m\u001b[37m\u001b[0m \u001b[1m50s\u001b[0m 810ms/step - accuracy: 0.9428 - loss: 0.5091 - val_accuracy: 0.9767 - val_loss: 1.6708\n",
      "Epoch 19/50\n",
      "\u001b[1m61/61\u001b[0m \u001b[32m━━━━━━━━━━━━━━━━━━━━\u001b[0m\u001b[37m\u001b[0m \u001b[1m50s\u001b[0m 815ms/step - accuracy: 0.9284 - loss: 0.7239 - val_accuracy: 0.2093 - val_loss: 40.6061\n",
      "Epoch 20/50\n",
      "\u001b[1m61/61\u001b[0m \u001b[32m━━━━━━━━━━━━━━━━━━━━\u001b[0m\u001b[37m\u001b[0m \u001b[1m50s\u001b[0m 811ms/step - accuracy: 0.9484 - loss: 0.4124 - val_accuracy: 0.6279 - val_loss: 4.7248\n",
      "Epoch 21/50\n",
      "\u001b[1m61/61\u001b[0m \u001b[32m━━━━━━━━━━━━━━━━━━━━\u001b[0m\u001b[37m\u001b[0m \u001b[1m50s\u001b[0m 814ms/step - accuracy: 0.9535 - loss: 0.6116 - val_accuracy: 0.9721 - val_loss: 0.5904\n",
      "Epoch 22/50\n",
      "\u001b[1m61/61\u001b[0m \u001b[32m━━━━━━━━━━━━━━━━━━━━\u001b[0m\u001b[37m\u001b[0m \u001b[1m51s\u001b[0m 833ms/step - accuracy: 0.9521 - loss: 0.3743 - val_accuracy: 0.7535 - val_loss: 4.5650\n",
      "Epoch 23/50\n",
      "\u001b[1m61/61\u001b[0m \u001b[32m━━━━━━━━━━━━━━━━━━━━\u001b[0m\u001b[37m\u001b[0m \u001b[1m50s\u001b[0m 815ms/step - accuracy: 0.9431 - loss: 0.5027 - val_accuracy: 0.8372 - val_loss: 2.7271\n",
      "Epoch 24/50\n",
      "\u001b[1m61/61\u001b[0m \u001b[32m━━━━━━━━━━━━━━━━━━━━\u001b[0m\u001b[37m\u001b[0m \u001b[1m52s\u001b[0m 848ms/step - accuracy: 0.9426 - loss: 0.4849 - val_accuracy: 0.5349 - val_loss: 45.0821\n",
      "Epoch 25/50\n",
      "\u001b[1m61/61\u001b[0m \u001b[32m━━━━━━━━━━━━━━━━━━━━\u001b[0m\u001b[37m\u001b[0m \u001b[1m50s\u001b[0m 816ms/step - accuracy: 0.9550 - loss: 0.4371 - val_accuracy: 0.9721 - val_loss: 2.2213\n",
      "Epoch 26/50\n",
      "\u001b[1m61/61\u001b[0m \u001b[32m━━━━━━━━━━━━━━━━━━━━\u001b[0m\u001b[37m\u001b[0m \u001b[1m51s\u001b[0m 834ms/step - accuracy: 0.9387 - loss: 0.7538 - val_accuracy: 0.5907 - val_loss: 5.4467\n",
      "Epoch 27/50\n",
      "\u001b[1m61/61\u001b[0m \u001b[32m━━━━━━━━━━━━━━━━━━━━\u001b[0m\u001b[37m\u001b[0m \u001b[1m50s\u001b[0m 812ms/step - accuracy: 0.9409 - loss: 0.5412 - val_accuracy: 0.9628 - val_loss: 1.0906\n",
      "Epoch 28/50\n",
      "\u001b[1m61/61\u001b[0m \u001b[32m━━━━━━━━━━━━━━━━━━━━\u001b[0m\u001b[37m\u001b[0m \u001b[1m50s\u001b[0m 810ms/step - accuracy: 0.9516 - loss: 0.5650 - val_accuracy: 0.4558 - val_loss: 28.1005\n",
      "Epoch 29/50\n",
      "\u001b[1m61/61\u001b[0m \u001b[32m━━━━━━━━━━━━━━━━━━━━\u001b[0m\u001b[37m\u001b[0m \u001b[1m51s\u001b[0m 825ms/step - accuracy: 0.9489 - loss: 0.5936 - val_accuracy: 0.8419 - val_loss: 2.4592\n",
      "Epoch 30/50\n",
      "\u001b[1m61/61\u001b[0m \u001b[32m━━━━━━━━━━━━━━━━━━━━\u001b[0m\u001b[37m\u001b[0m \u001b[1m50s\u001b[0m 813ms/step - accuracy: 0.9540 - loss: 0.5406 - val_accuracy: 0.9814 - val_loss: 0.8925\n",
      "Epoch 31/50\n",
      "\u001b[1m61/61\u001b[0m \u001b[32m━━━━━━━━━━━━━━━━━━━━\u001b[0m\u001b[37m\u001b[0m \u001b[1m52s\u001b[0m 852ms/step - accuracy: 0.9554 - loss: 0.3868 - val_accuracy: 0.9674 - val_loss: 0.4524\n",
      "Epoch 32/50\n",
      "\u001b[1m61/61\u001b[0m \u001b[32m━━━━━━━━━━━━━━━━━━━━\u001b[0m\u001b[37m\u001b[0m \u001b[1m52s\u001b[0m 847ms/step - accuracy: 0.9522 - loss: 0.5500 - val_accuracy: 0.2186 - val_loss: 590.1828\n",
      "Epoch 33/50\n",
      "\u001b[1m61/61\u001b[0m \u001b[32m━━━━━━━━━━━━━━━━━━━━\u001b[0m\u001b[37m\u001b[0m \u001b[1m50s\u001b[0m 818ms/step - accuracy: 0.9427 - loss: 0.6999 - val_accuracy: 0.9535 - val_loss: 0.6089\n",
      "Epoch 34/50\n",
      "\u001b[1m61/61\u001b[0m \u001b[32m━━━━━━━━━━━━━━━━━━━━\u001b[0m\u001b[37m\u001b[0m \u001b[1m50s\u001b[0m 817ms/step - accuracy: 0.9539 - loss: 0.4016 - val_accuracy: 0.7907 - val_loss: 11.3159\n",
      "Epoch 35/50\n",
      "\u001b[1m61/61\u001b[0m \u001b[32m━━━━━━━━━━━━━━━━━━━━\u001b[0m\u001b[37m\u001b[0m \u001b[1m50s\u001b[0m 810ms/step - accuracy: 0.9657 - loss: 0.3093 - val_accuracy: 0.9070 - val_loss: 2.6766\n",
      "Epoch 36/50\n",
      "\u001b[1m61/61\u001b[0m \u001b[32m━━━━━━━━━━━━━━━━━━━━\u001b[0m\u001b[37m\u001b[0m \u001b[1m50s\u001b[0m 825ms/step - accuracy: 0.9535 - loss: 0.4792 - val_accuracy: 0.9674 - val_loss: 0.3800\n",
      "Epoch 37/50\n",
      "\u001b[1m61/61\u001b[0m \u001b[32m━━━━━━━━━━━━━━━━━━━━\u001b[0m\u001b[37m\u001b[0m \u001b[1m50s\u001b[0m 817ms/step - accuracy: 0.9639 - loss: 0.3891 - val_accuracy: 0.9721 - val_loss: 0.3377\n",
      "Epoch 38/50\n",
      "\u001b[1m61/61\u001b[0m \u001b[32m━━━━━━━━━━━━━━━━━━━━\u001b[0m\u001b[37m\u001b[0m \u001b[1m50s\u001b[0m 811ms/step - accuracy: 0.9579 - loss: 0.3027 - val_accuracy: 0.2558 - val_loss: 42.8913\n",
      "Epoch 39/50\n",
      "\u001b[1m61/61\u001b[0m \u001b[32m━━━━━━━━━━━━━━━━━━━━\u001b[0m\u001b[37m\u001b[0m \u001b[1m51s\u001b[0m 831ms/step - accuracy: 0.9591 - loss: 0.5336 - val_accuracy: 0.8977 - val_loss: 1.8574\n",
      "Epoch 40/50\n",
      "\u001b[1m61/61\u001b[0m \u001b[32m━━━━━━━━━━━━━━━━━━━━\u001b[0m\u001b[37m\u001b[0m \u001b[1m51s\u001b[0m 831ms/step - accuracy: 0.9523 - loss: 0.4887 - val_accuracy: 0.9767 - val_loss: 0.4180\n",
      "Epoch 41/50\n",
      "\u001b[1m61/61\u001b[0m \u001b[32m━━━━━━━━━━━━━━━━━━━━\u001b[0m\u001b[37m\u001b[0m \u001b[1m50s\u001b[0m 812ms/step - accuracy: 0.9677 - loss: 0.3656 - val_accuracy: 0.1860 - val_loss: 135.9049\n",
      "Epoch 42/50\n",
      "\u001b[1m61/61\u001b[0m \u001b[32m━━━━━━━━━━━━━━━━━━━━\u001b[0m\u001b[37m\u001b[0m \u001b[1m50s\u001b[0m 817ms/step - accuracy: 0.9622 - loss: 0.4147 - val_accuracy: 0.9767 - val_loss: 0.6757\n",
      "Epoch 43/50\n",
      "\u001b[1m61/61\u001b[0m \u001b[32m━━━━━━━━━━━━━━━━━━━━\u001b[0m\u001b[37m\u001b[0m \u001b[1m51s\u001b[0m 831ms/step - accuracy: 0.9659 - loss: 0.3956 - val_accuracy: 0.9907 - val_loss: 0.1035\n",
      "Epoch 44/50\n",
      "\u001b[1m61/61\u001b[0m \u001b[32m━━━━━━━━━━━━━━━━━━━━\u001b[0m\u001b[37m\u001b[0m \u001b[1m50s\u001b[0m 812ms/step - accuracy: 0.9630 - loss: 0.3983 - val_accuracy: 0.7581 - val_loss: 38.5333\n",
      "Epoch 45/50\n",
      "\u001b[1m61/61\u001b[0m \u001b[32m━━━━━━━━━━━━━━━━━━━━\u001b[0m\u001b[37m\u001b[0m \u001b[1m51s\u001b[0m 841ms/step - accuracy: 0.9631 - loss: 0.3728 - val_accuracy: 0.5023 - val_loss: 11.7110\n",
      "Epoch 46/50\n",
      "\u001b[1m61/61\u001b[0m \u001b[32m━━━━━━━━━━━━━━━━━━━━\u001b[0m\u001b[37m\u001b[0m \u001b[1m53s\u001b[0m 865ms/step - accuracy: 0.9546 - loss: 0.4730 - val_accuracy: 0.9581 - val_loss: 0.2353\n",
      "Epoch 47/50\n",
      "\u001b[1m61/61\u001b[0m \u001b[32m━━━━━━━━━━━━━━━━━━━━\u001b[0m\u001b[37m\u001b[0m \u001b[1m53s\u001b[0m 858ms/step - accuracy: 0.9627 - loss: 0.3262 - val_accuracy: 0.9860 - val_loss: 0.8337\n",
      "Epoch 48/50\n",
      "\u001b[1m61/61\u001b[0m \u001b[32m━━━━━━━━━━━━━━━━━━━━\u001b[0m\u001b[37m\u001b[0m \u001b[1m52s\u001b[0m 843ms/step - accuracy: 0.9639 - loss: 0.4705 - val_accuracy: 0.9814 - val_loss: 0.7193\n",
      "Epoch 49/50\n",
      "\u001b[1m61/61\u001b[0m \u001b[32m━━━━━━━━━━━━━━━━━━━━\u001b[0m\u001b[37m\u001b[0m \u001b[1m52s\u001b[0m 846ms/step - accuracy: 0.9627 - loss: 0.4462 - val_accuracy: 0.8930 - val_loss: 4.9219\n",
      "Epoch 50/50\n",
      "\u001b[1m61/61\u001b[0m \u001b[32m━━━━━━━━━━━━━━━━━━━━\u001b[0m\u001b[37m\u001b[0m \u001b[1m53s\u001b[0m 858ms/step - accuracy: 0.9754 - loss: 0.2104 - val_accuracy: 0.9674 - val_loss: 0.7025\n"
     ]
    }
   ],
   "source": [
    "# Train the model with augmented data\n",
    "history = model.fit(datagen.flow(X_train, y_train, batch_size=32), epochs=50, validation_data=(X_val, y_val))"
   ]
  },
  {
   "cell_type": "code",
   "execution_count": 11,
   "id": "eaaf003f",
   "metadata": {},
   "outputs": [
    {
     "name": "stdout",
     "output_type": "stream",
     "text": [
      "Training Accuracy: 97.35%, Validation Accuracy: 96.74%\n"
     ]
    }
   ],
   "source": [
    "# Print training and validation accuracy\n",
    "train_acc = history.history['accuracy'][-1] * 100\n",
    "val_acc = history.history['val_accuracy'][-1] * 100\n",
    "print(f\"Training Accuracy: {train_acc:.2f}%, Validation Accuracy: {val_acc:.2f}%\")\n"
   ]
  },
  {
   "cell_type": "code",
   "execution_count": 12,
   "id": "c8111c76",
   "metadata": {},
   "outputs": [
    {
     "name": "stdout",
     "output_type": "stream",
     "text": [
      "\u001b[1m61/61\u001b[0m \u001b[32m━━━━━━━━━━━━━━━━━━━━\u001b[0m\u001b[37m\u001b[0m \u001b[1m6s\u001b[0m 104ms/step\n",
      "\u001b[1m7/7\u001b[0m \u001b[32m━━━━━━━━━━━━━━━━━━━━\u001b[0m\u001b[37m\u001b[0m \u001b[1m1s\u001b[0m 95ms/step\n",
      "Training Accuracy: 98.18%\n",
      "Validation Accuracy: 96.74%\n",
      "Precision: 97.16%\n",
      "Recall: 96.74%\n",
      "F1 Score: 96.70%\n"
     ]
    }
   ],
   "source": [
    "# Calculate evaluation metrics\n",
    "y_train_pred = model.predict(X_train)\n",
    "y_val_pred = model.predict(X_val)\n",
    "y_train_pred_classes = np.argmax(y_train_pred, axis=1)\n",
    "y_val_pred_classes = np.argmax(y_val_pred, axis=1)\n",
    "train_accuracy = accuracy_score(np.argmax(y_train, axis=1), y_train_pred_classes)\n",
    "val_accuracy = accuracy_score(np.argmax(y_val, axis=1), y_val_pred_classes)\n",
    "precision = precision_score(np.argmax(y_val, axis=1), y_val_pred_classes, average='weighted')\n",
    "recall = recall_score(np.argmax(y_val, axis=1), y_val_pred_classes, average='weighted')\n",
    "f1 = f1_score(np.argmax(y_val, axis=1), y_val_pred_classes, average='weighted')\n",
    "\n",
    "# Print evaluation metrics\n",
    "print(f\"Training Accuracy: {train_accuracy * 100:.2f}%\")\n",
    "print(f\"Validation Accuracy: {val_accuracy * 100:.2f}%\")\n",
    "print(f\"Precision: {precision * 100:.2f}%\")\n",
    "print(f\"Recall: {recall * 100:.2f}%\")\n",
    "print(f\"F1 Score: {f1 * 100:.2f}%\")"
   ]
  },
  {
   "cell_type": "code",
   "execution_count": 14,
   "id": "f2687946",
   "metadata": {},
   "outputs": [],
   "source": [
    "# Save the trained model in the native Keras format\n",
    "model.save(\"TrainedModel/GestureRecogModel.keras\")\n"
   ]
  },
  {
   "cell_type": "code",
   "execution_count": 15,
   "id": "27368e94",
   "metadata": {},
   "outputs": [],
   "source": [
    "loaded_model = tf.keras.models.load_model('TrainedModel/GestureRecogModel.keras')"
   ]
  },
  {
   "cell_type": "code",
   "execution_count": 23,
   "id": "fbdb38b4",
   "metadata": {},
   "outputs": [
    {
     "name": "stdout",
     "output_type": "stream",
     "text": [
      "\u001b[1m1/1\u001b[0m \u001b[32m━━━━━━━━━━━━━━━━━━━━\u001b[0m\u001b[37m\u001b[0m \u001b[1m0s\u001b[0m 48ms/step\n",
      "Predicted class: TA\n"
     ]
    }
   ],
   "source": [
    "# Load the single test image\n",
    "test_image = cv2.imread(r\"C:\\Users\\anish\\Desktop\\hand\\frame_0000_hand_0TA.jpg\")\n",
    "test_image_gray = cv2.cvtColor(test_image, cv2.COLOR_BGR2GRAY)\n",
    "resized_test_image = cv2.resize(test_image_gray, (100, 100))\n",
    "deblurred_test_image = cv2.GaussianBlur(resized_test_image, (5, 5), 0)\n",
    "normalized_test_image = deblurred_test_image / 255.0\n",
    "\n",
    "# Reshape the image for model input\n",
    "test_image_input = normalized_test_image.reshape(1, 100, 100, 1)\n",
    "\n",
    "# Predict on the single test image\n",
    "prediction = loaded_model.predict(test_image_input)\n",
    "predicted_class = np.argmax(prediction)\n",
    "\n",
    "# Output the label of the predicted class\n",
    "predicted_label = list(label_mapping.keys())[list(label_mapping.values()).index(predicted_class)]\n",
    "print(\"Predicted class:\", predicted_label)"
   ]
  },
  {
   "cell_type": "code",
   "execution_count": null,
   "id": "9418f644",
   "metadata": {},
   "outputs": [],
   "source": []
  }
 ],
 "metadata": {
  "kernelspec": {
   "display_name": "Python 3 (ipykernel)",
   "language": "python",
   "name": "python3"
  },
  "language_info": {
   "codemirror_mode": {
    "name": "ipython",
    "version": 3
   },
   "file_extension": ".py",
   "mimetype": "text/x-python",
   "name": "python",
   "nbconvert_exporter": "python",
   "pygments_lexer": "ipython3",
   "version": "3.11.5"
  }
 },
 "nbformat": 4,
 "nbformat_minor": 5
}
